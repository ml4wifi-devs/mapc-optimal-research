{
 "cells": [
  {
   "cell_type": "code",
   "execution_count": 20,
   "metadata": {},
   "outputs": [],
   "source": [
    "from argparse import ArgumentParser\n",
    "import os\n",
    "\n",
    "import pandas as pd\n",
    "import numpy as np\n",
    "import matplotlib.pyplot as plt\n",
    "\n",
    "from mapc_research.plots.config import get_cmap\n",
    "\n",
    "DISTANCE_MAP ={\n",
    "    10: 0,\n",
    "    20: 1,\n",
    "    30: 2\n",
    "}\n",
    "\n",
    "# REFERENCE_AGENT = \"oracle\"\n",
    "LABELS_MAP = {\n",
    "    \"oracle\": \"DCF\",\n",
    "    \"sr\": \"SR\",\n",
    "    \"fmab\": \"MAB\",\n",
    "    \"hmab\": \"H-MAB\",\n",
    "    \"opt_min\": \"F-Optimal\",\n",
    "    \"opt_sum\": \"T-Optimal\"\n",
    "}\n",
    "FILTERED_LABELS_MAP = {\n",
    "    \"oracle\": \"DCF\",\n",
    "    \"fmab\": \"MAB\",\n",
    "    \"hmab\": \"H-MAB\",\n",
    "    \"opt_min\": \"F-Optimal\",\n",
    "    \"opt_sum\": \"T-Optimal\"\n",
    "}\n",
    "CMAP = get_cmap(len(LABELS_MAP))\n",
    "# CMAP = {k: CMAP[i] for i, k in enumerate(LABELS_MAP.keys())}\n",
    "CMAP = {k: 'tab:blue' for i, k in enumerate(LABELS_MAP.keys())}\n",
    "# LABELS_MAP.pop(REFERENCE_AGENT)\n",
    "\n",
    "X_TICKS_LABELS = [\"2x2\", \"2x3\", \"3x3\", \"3x4\", \"4x4\"]\n",
    "\n",
    "RESULTS_PATH = \"/Users/wciezobka/ncn/mapc-optimal-research/results/worst_case/all.csv\""
   ]
  },
  {
   "cell_type": "code",
   "execution_count": 21,
   "metadata": {},
   "outputs": [
    {
     "data": {
      "text/html": [
       "<div>\n",
       "<style scoped>\n",
       "    .dataframe tbody tr th:only-of-type {\n",
       "        vertical-align: middle;\n",
       "    }\n",
       "\n",
       "    .dataframe tbody tr th {\n",
       "        vertical-align: top;\n",
       "    }\n",
       "\n",
       "    .dataframe thead th {\n",
       "        text-align: right;\n",
       "    }\n",
       "</style>\n",
       "<table border=\"1\" class=\"dataframe\">\n",
       "  <thead>\n",
       "    <tr style=\"text-align: right;\">\n",
       "      <th></th>\n",
       "      <th>ScenarioID</th>\n",
       "      <th>Agent</th>\n",
       "      <th>TotalThr</th>\n",
       "      <th>WorstCaseThr</th>\n",
       "    </tr>\n",
       "  </thead>\n",
       "  <tbody>\n",
       "    <tr>\n",
       "      <th>0</th>\n",
       "      <td>0</td>\n",
       "      <td>opt_sum</td>\n",
       "      <td>258.000000</td>\n",
       "      <td>0.000000</td>\n",
       "    </tr>\n",
       "    <tr>\n",
       "      <th>1</th>\n",
       "      <td>0</td>\n",
       "      <td>opt_min</td>\n",
       "      <td>191.814581</td>\n",
       "      <td>11.988411</td>\n",
       "    </tr>\n",
       "    <tr>\n",
       "      <th>2</th>\n",
       "      <td>1</td>\n",
       "      <td>opt_sum</td>\n",
       "      <td>372.600000</td>\n",
       "      <td>0.000000</td>\n",
       "    </tr>\n",
       "    <tr>\n",
       "      <th>3</th>\n",
       "      <td>1</td>\n",
       "      <td>opt_min</td>\n",
       "      <td>229.487873</td>\n",
       "      <td>14.342992</td>\n",
       "    </tr>\n",
       "    <tr>\n",
       "      <th>4</th>\n",
       "      <td>2</td>\n",
       "      <td>opt_sum</td>\n",
       "      <td>401.200000</td>\n",
       "      <td>0.000000</td>\n",
       "    </tr>\n",
       "    <tr>\n",
       "      <th>...</th>\n",
       "      <td>...</td>\n",
       "      <td>...</td>\n",
       "      <td>...</td>\n",
       "      <td>...</td>\n",
       "    </tr>\n",
       "    <tr>\n",
       "      <th>76</th>\n",
       "      <td>10</td>\n",
       "      <td>hmab</td>\n",
       "      <td>372.230853</td>\n",
       "      <td>0.621444</td>\n",
       "    </tr>\n",
       "    <tr>\n",
       "      <th>77</th>\n",
       "      <td>11</td>\n",
       "      <td>hmab</td>\n",
       "      <td>320.975930</td>\n",
       "      <td>0.961707</td>\n",
       "    </tr>\n",
       "    <tr>\n",
       "      <th>78</th>\n",
       "      <td>12</td>\n",
       "      <td>hmab</td>\n",
       "      <td>321.409190</td>\n",
       "      <td>0.691466</td>\n",
       "    </tr>\n",
       "    <tr>\n",
       "      <th>79</th>\n",
       "      <td>13</td>\n",
       "      <td>hmab</td>\n",
       "      <td>439.580963</td>\n",
       "      <td>0.510941</td>\n",
       "    </tr>\n",
       "    <tr>\n",
       "      <th>80</th>\n",
       "      <td>14</td>\n",
       "      <td>hmab</td>\n",
       "      <td>428.718818</td>\n",
       "      <td>0.495624</td>\n",
       "    </tr>\n",
       "  </tbody>\n",
       "</table>\n",
       "<p>81 rows × 4 columns</p>\n",
       "</div>"
      ],
      "text/plain": [
       "    ScenarioID    Agent    TotalThr  WorstCaseThr\n",
       "0            0  opt_sum  258.000000      0.000000\n",
       "1            0  opt_min  191.814581     11.988411\n",
       "2            1  opt_sum  372.600000      0.000000\n",
       "3            1  opt_min  229.487873     14.342992\n",
       "4            2  opt_sum  401.200000      0.000000\n",
       "..         ...      ...         ...           ...\n",
       "76          10     hmab  372.230853      0.621444\n",
       "77          11     hmab  320.975930      0.961707\n",
       "78          12     hmab  321.409190      0.691466\n",
       "79          13     hmab  439.580963      0.510941\n",
       "80          14     hmab  428.718818      0.495624\n",
       "\n",
       "[81 rows x 4 columns]"
      ]
     },
     "execution_count": 21,
     "metadata": {},
     "output_type": "execute_result"
    }
   ],
   "source": [
    "results_df = pd.read_csv(RESULTS_PATH)\n",
    "results_df"
   ]
  },
  {
   "cell_type": "code",
   "execution_count": 34,
   "metadata": {},
   "outputs": [
    {
     "data": {
      "text/plain": [
       "<Figure size 252x155.745 with 0 Axes>"
      ]
     },
     "metadata": {},
     "output_type": "display_data"
    }
   ],
   "source": [
    "scenario_id = 7\n",
    "scenario_suffix = \"3x3_d20\"\n",
    "\n",
    "# Filter the results for the given scenario\n",
    "df = results_df[results_df[\"ScenarioID\"] == scenario_id]\n",
    "\n",
    "# Plot the difference between the WorstCaseThr and the reference value as a horizontal bar plot\n",
    "fig, ax = plt.subplots()\n",
    "for i, (agent, label) in enumerate(LABELS_MAP.items()):\n",
    "    if agent not in FILTERED_LABELS_MAP:\n",
    "        continue\n",
    "    thr = df[df[\"Agent\"] == agent][\"WorstCaseThr\"].values\n",
    "    if thr.size == 0:\n",
    "        continue\n",
    "    thr = df[df[\"Agent\"] == agent][\"WorstCaseThr\"].values[0]\n",
    "    thr = thr if thr != 0 else -1.\n",
    "    ax.barh(i, thr, color=CMAP[agent])\n",
    "\n",
    "ax.axvline(0, color='black', linewidth=0.5)\n",
    "ax.set_xlim(-1, ax.get_xlim()[1])\n",
    "# ax.set_xscale('symlog')\n",
    "ax.set_xlabel('Minimum link data rate [Mb/s]', fontsize=12)\n",
    "ax.set_yticks(range(len(LABELS_MAP)))\n",
    "ax.set_yticklabels(LABELS_MAP[agent] for agent in LABELS_MAP)\n",
    "\n",
    "plt.yticks(rotation=0)\n",
    "plt.grid(axis='x')\n",
    "plt.savefig(f\"results_worst_case_scenario_{scenario_suffix}.pdf\", bbox_inches='tight')\n",
    "plt.clf()\n"
   ]
  },
  {
   "cell_type": "code",
   "execution_count": 35,
   "metadata": {},
   "outputs": [
    {
     "data": {
      "text/plain": [
       "<Figure size 252x155.745 with 0 Axes>"
      ]
     },
     "metadata": {},
     "output_type": "display_data"
    },
    {
     "data": {
      "text/plain": [
       "<Figure size 252x155.745 with 0 Axes>"
      ]
     },
     "metadata": {},
     "output_type": "display_data"
    },
    {
     "data": {
      "text/plain": [
       "<Figure size 252x155.745 with 0 Axes>"
      ]
     },
     "metadata": {},
     "output_type": "display_data"
    }
   ],
   "source": [
    "for distance in DISTANCE_MAP.keys():\n",
    "    modulo = DISTANCE_MAP[distance]\n",
    "\n",
    "    # Filter rows of the results dataframe to keep only the rows where scenario_id mod 3 is equal to modulo\n",
    "    df_distance = results_df[results_df[\"ScenarioID\"] % 3 == modulo]\n",
    "\n",
    "    # Plot the difference between the WorstCaseThr and the reference value as a horizontal bar plot\n",
    "    fig, ax = plt.subplots()\n",
    "    unique_scenarios = df_distance[\"ScenarioID\"].unique()\n",
    "    for scenario_id in unique_scenarios:\n",
    "        df = df_distance[df_distance[\"ScenarioID\"] == scenario_id]\n",
    "        for i, (agent, label) in enumerate(LABELS_MAP.items()):\n",
    "            if agent not in FILTERED_LABELS_MAP:\n",
    "                continue\n",
    "            thr = df[df[\"Agent\"] == agent][\"WorstCaseThr\"].values\n",
    "            if thr.size == 0:\n",
    "                continue\n",
    "            thr = df[df[\"Agent\"] == agent][\"WorstCaseThr\"].values[0]\n",
    "            thr = thr if thr != 0 else -1.\n",
    "            ax.barh(i, thr, color=CMAP[agent], alpha=0.5)\n",
    "\n",
    "    ax.axvline(0, color='black', linewidth=0.5)\n",
    "    ax.set_xlim(-1, ax.get_xlim()[1])\n",
    "    # ax.set_xscale('symlog')\n",
    "    ax.set_xlabel('Minimum link data rate [Mb/s]', fontsize=12)\n",
    "    ax.set_yticks(range(len(LABELS_MAP)))\n",
    "    ax.set_yticklabels(LABELS_MAP[agent] for agent in LABELS_MAP)\n",
    "\n",
    "    plt.yticks(rotation=0)\n",
    "    plt.grid(axis='x')\n",
    "    plt.savefig(f\"results_worst_case_scenario_d{distance}.pdf\", bbox_inches='tight')\n",
    "    plt.clf()"
   ]
  },
  {
   "cell_type": "code",
   "execution_count": 27,
   "metadata": {},
   "outputs": [
    {
     "data": {
      "image/png": "[encoded data removed]",
      "text/plain": [
       "<Figure size 252x155.745 with 1 Axes>"
      ]
     },
     "metadata": {},
     "output_type": "display_data"
    }
   ],
   "source": [
    "xs = np.linspace(-10, 10, 200)\n",
    "ys = xs\n",
    "plt.plot(xs, ys)\n",
    "plt.xscale('symlog')\n",
    "plt.xlim(-10, 10)\n",
    "plt.ylim(-10, 10)\n",
    "plt.savefig(\"symlog.pdf\", bbox_inches='tight')"
   ]
  }
 ],
 "metadata": {
  "kernelspec": {
   "display_name": "pymapc310",
   "language": "python",
   "name": "python3"
  },
  "language_info": {
   "codemirror_mode": {
    "name": "ipython",
    "version": 3
   },
   "file_extension": ".py",
   "mimetype": "text/x-python",
   "name": "python",
   "nbconvert_exporter": "python",
   "pygments_lexer": "ipython3",
   "version": "3.10.4"
  }
 },
 "nbformat": 4,
 "nbformat_minor": 2
}
