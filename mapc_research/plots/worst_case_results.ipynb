{
 "cells": [
  {
   "metadata": {},
   "cell_type": "code",
   "outputs": [],
   "execution_count": null,
   "source": [
    "from argparse import ArgumentParser\n",
    "import os\n",
    "\n",
    "import pandas as pd\n",
    "import numpy as np\n",
    "import matplotlib.pyplot as plt\n",
    "\n",
    "from mapc_research.plots.config import get_cmap\n",
    "\n",
    "DISTANCE_MAP ={\n",
    "    10: 0,\n",
    "    20: 1,\n",
    "    30: 2\n",
    "}\n",
    "\n",
    "LABELS_MAP = {\n",
    "    \"dcf\": \"DCF\",\n",
    "    \"sr\": \"SR\",\n",
    "    \"fmab\": \"MAB\",\n",
    "    \"hmab\": \"H-MAB\",\n",
    "    \"opt_min\": \"F-Optimal\",\n",
    "    \"opt_sum\": \"T-Optimal\"\n",
    "}\n",
    "\n",
    "COLOR = '#305080'\n",
    "X_TICKS_LABELS = [\"2x2\", \"2x3\", \"3x3\", \"3x4\", \"4x4\"]\n",
    "RESULTS_PATH = \"~/mapc-optimal-research/results/worst_case/all.csv\""
   ]
  },
  {
   "metadata": {},
   "cell_type": "code",
   "outputs": [],
   "execution_count": null,
   "source": [
    "results_df = pd.read_csv(RESULTS_PATH)\n",
    "results_df"
   ]
  },
  {
   "cell_type": "code",
   "execution_count": null,
   "metadata": {},
   "outputs": [
    {
     "data": {
      "text/plain": [
       "<Figure size 252x155.745 with 0 Axes>"
      ]
     },
     "metadata": {},
     "output_type": "display_data"
    }
   ],
   "source": [
    "scenario_id = 7\n",
    "scenario_suffix = \"3x3_d20\"\n",
    "\n",
    "# Filter the results for the given scenario\n",
    "df = results_df[results_df[\"ScenarioID\"] == scenario_id]\n",
    "\n",
    "# Plot the difference between the WorstCaseThr and the reference value as a horizontal bar plot\n",
    "fig, ax = plt.subplots()\n",
    "for j, (agent, label) in enumerate(LABELS_MAP.items()):\n",
    "    # if agent not in FILTERED_LABELS_MAP:\n",
    "    #     continue\n",
    "    thr = df[df[\"Agent\"] == agent][\"WorstCaseThr\"].values\n",
    "    if thr.size == 0:\n",
    "        continue\n",
    "    thr = df[df[\"Agent\"] == agent][\"WorstCaseThr\"].values[0]\n",
    "    thr = thr if thr != 0 else -1.\n",
    "    ax.barh(j, thr, color=COLOR)\n",
    "\n",
    "ax.axvline(0, color='black', linewidth=0.0)\n",
    "ax.set_xlim(-1, ax.get_xlim()[1])\n",
    "ax.set_xscale('linear')\n",
    "ax.set_xlabel('Minimum link data rate [Mb/s]', fontsize=12)\n",
    "ax.set_yticks(range(len(LABELS_MAP)))\n",
    "ax.set_yticklabels(LABELS_MAP[agent] for agent in LABELS_MAP)\n",
    "\n",
    "plt.yticks(rotation=0)\n",
    "plt.grid(axis='x')\n",
    "plt.savefig(f\"results_worst_case_scenario_{scenario_suffix}.pdf\", bbox_inches='tight')\n",
    "plt.clf()\n"
   ]
  },
  {
   "cell_type": "code",
   "execution_count": null,
   "metadata": {},
   "outputs": [
    {
     "data": {
      "text/plain": [
       "<Figure size 252x155.745 with 0 Axes>"
      ]
     },
     "metadata": {},
     "output_type": "display_data"
    },
    {
     "data": {
      "text/plain": [
       "<Figure size 252x155.745 with 0 Axes>"
      ]
     },
     "metadata": {},
     "output_type": "display_data"
    },
    {
     "data": {
      "text/plain": [
       "<Figure size 252x155.745 with 0 Axes>"
      ]
     },
     "metadata": {},
     "output_type": "display_data"
    }
   ],
   "source": [
    "for distance in DISTANCE_MAP.keys():\n",
    "    modulo = DISTANCE_MAP[distance]\n",
    "\n",
    "    # Filter rows of the results dataframe to keep only the rows where scenario_id mod 3 is equal to modulo\n",
    "    df_distance = results_df[results_df[\"ScenarioID\"] % 3 == modulo]\n",
    "\n",
    "    # Plot the difference between the WorstCaseThr and the reference value as a horizontal bar plot\n",
    "    fig, ax = plt.subplots()\n",
    "    unique_scenarios = df_distance[\"ScenarioID\"].unique()\n",
    "    for i, scenario_id in enumerate(unique_scenarios):\n",
    "        df = df_distance[df_distance[\"ScenarioID\"] == scenario_id]\n",
    "        for j, (agent, label) in enumerate(LABELS_MAP.items()):\n",
    "            # if agent not in FILTERED_LABELS_MAP:\n",
    "            #     continue\n",
    "            thr = df[df[\"Agent\"] == agent][\"WorstCaseThr\"].values\n",
    "            if thr.size == 0:\n",
    "                continue\n",
    "            thr = df[df[\"Agent\"] == agent][\"WorstCaseThr\"].values[0]\n",
    "            thr = thr if thr != 0 else -1.\n",
    "            ax.barh(j, thr, color=COLOR, alpha=0.5)\n",
    "\n",
    "    ax.axvline(0, color='black', linewidth=0.0)\n",
    "    ax.set_xlim(-1, ax.get_xlim()[1])\n",
    "    ax.set_xscale('linear')\n",
    "    ax.set_xlabel('Minimum link data rate [Mb/s]', fontsize=12)\n",
    "    ax.set_yticks(range(len(LABELS_MAP)))\n",
    "    ax.set_yticklabels(LABELS_MAP[agent] for agent in LABELS_MAP)\n",
    "\n",
    "    plt.yticks(rotation=0)\n",
    "    plt.grid(axis='x')\n",
    "    plt.savefig(f\"results_worst_case_scenario_d{distance}.pdf\", bbox_inches='tight')\n",
    "    plt.clf()"
   ]
  },
  {
   "cell_type": "code",
   "execution_count": null,
   "metadata": {},
   "outputs": [],
   "source": []
  }
 ],
 "metadata": {
  "kernelspec": {
   "display_name": "pymapc310",
   "language": "python",
   "name": "python3"
  },
  "language_info": {
   "codemirror_mode": {
    "name": "ipython",
    "version": 3
   },
   "file_extension": ".py",
   "mimetype": "text/x-python",
   "name": "python",
   "nbconvert_exporter": "python",
   "pygments_lexer": "ipython3",
   "version": "3.10.4"
  }
 },
 "nbformat": 4,
 "nbformat_minor": 2
}
